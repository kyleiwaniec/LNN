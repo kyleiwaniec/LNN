{
 "cells": [
  {
   "cell_type": "markdown",
   "id": "5841e8b6",
   "metadata": {
    "tags": []
   },
   "source": [
    "# Propositional Logic Experiment\n",
    "\n",
    "In this notebook, we will test your skills on using the LNN in a propositional setting. You will be required to use your knowledge about per-node reasoning and bounds to complete the code and answer the query. Once you have evaluated the end result, [submit your answer](https://ibm.ent.box.com/notes/928968934657?s=42l32h0uno2ndq5o9omb7hl17dddpjuk) to become eligble for the [IBM Neuro-Symbolic AI Essentials](https://ibm.biz/nsai-essentials) Badge."
   ]
  },
  {
   "cell_type": "markdown",
   "id": "d1698904",
   "metadata": {
    "tags": []
   },
   "source": [
    "### Learning Outcomes\n",
    "\n",
    "The [Propositional Logic](../0.%20Propositional%20Logic.ipynb) notebooks demonstrated logical reasoning to evaluate and inspect an LNN graph. This experiment will assess your ability to deconstruct a graph and infer truths for individual nodes. Completing the notebook provides the following learning outcomes:\n",
    "\n",
    "- Omni-directional inference per-node\n",
    "- Printing nodes to evaluate truths\n",
    "- Querying information based on inferred truths"
   ]
  },
  {
   "cell_type": "markdown",
   "id": "bda54361",
   "metadata": {
    "tags": []
   },
   "source": [
    "### Instructions\n",
    "\n",
    "1. _Use_ the illustrations given as a guide on how to reason with an LNN graph\n",
    "\n",
    "2. _Fill_ in code that will evaluate the correct truth values expected from performing logical inference\n",
    "\n",
    "3. _Query_ the logical disjunction (OR) between nodes B, D and E\n",
    "\n",
    "4. _Copy & paste_ the output of the result into the form under the `results` field "
   ]
  },
  {
   "cell_type": "markdown",
   "id": "9b0023ca",
   "metadata": {},
   "source": [
    "### Propositional Inference\n",
    "\n",
    "Recall that a proposition is any declarative sentence that allows you to associate a truth value with the atomic formulae. An LNN graph can hierarchically compose these propositions using logical connectives and reason over their respective truths. Evaluating a particular node requires an upward/downward inference pass.\n",
    "\n",
    "Suppose that you are given the following LNN graph:\n",
    "\n",
    "\n",
    "where the following beliefs are outputs from sensor information:\n",
    "```\n",
    "root: TRUE\n",
    "A: 0.2 (with zero uncertainty)\n",
    "C: True\n",
    "E: 0.3 - 0.7\n",
    "```\n",
    "\n",
    "Your task is to perform successive inference passes to obtain the truth value of a query node. \n",
    "> HINT: use the `node.print()` function as a guide to ensure that the LNN is returning the correct truths. \n",
    "\n",
    "The final query is to return the truth of a **disjunction** of the following propositions:\n",
    "\n",
    "\\begin{equation}(B, D, E)\\end{equation}\n",
    "\n",
    "> NB: use the provided function definition to help you extract out the correct truth value bounds\n",
    "\n",
    "<center>\n",
    "    <figure>\n",
    "        <img src=\"../img/experiment/0/graph.png\" width=\"400\" />\n",
    "        <figcaption>Figure 1. Propositional inference</figcaption>\n",
    "    </figure>\n",
    "</center>"
   ]
  },
  {
   "cell_type": "markdown",
   "id": "ed1b2882",
   "metadata": {},
   "source": [
    "Fill in the codeblock below to construct the graph and reason about all nodes:"
   ]
  },
  {
   "cell_type": "code",
   "execution_count": 25,
   "id": "5e63871e",
   "metadata": {
    "tags": []
   },
   "outputs": [
    {
     "name": "stdout",
     "output_type": "stream",
     "text": [
      "\n",
      "***************************************************************************\n",
      "                                LNN Model\n",
      "\n",
      "OPEN And: ((A → B) ∧ (((C ∧ D) → E) ∧ (E → (C ∧ D))))          TRUE (1.0, 1.0)\n",
      "\n",
      "OPEN Equivalent: (((C ∧ D) → E) ∧ (E → (C ∧ D)))            TRUE (1.0, 1.0)\n",
      "\n",
      "OPEN Implies: (E → (C ∧ D))                                 TRUE (1.0, 1.0)\n",
      "\n",
      "OPEN Implies: ((C ∧ D) → E)                                 TRUE (1.0, 1.0)\n",
      "\n",
      "OPEN Proposition: E                                APPROX_UNKNOWN (0.3, 0.7)\n",
      "\n",
      "OPEN And: (C ∧ D)                                  APPROX_UNKNOWN (0.3, 0.7)\n",
      "\n",
      "OPEN Proposition: D                                APPROX_UNKNOWN (0.3, 0.7)\n",
      "\n",
      "OPEN Proposition: C                                         TRUE (1.0, 1.0)\n",
      "\n",
      "OPEN Implies: (A → B)                                       TRUE (1.0, 1.0)\n",
      "\n",
      "OPEN Proposition: B                                APPROX_UNKNOWN (0.2, 1.0)\n",
      "\n",
      "OPEN Proposition: A                                 APPROX_FALSE (0.2, 0.2)\n",
      "\n",
      "***************************************************************************\n",
      "OPEN Or: (B ∨ D ∨ E)                                 APPROX_TRUE (0.8, 1.0)\n",
      "\n"
     ]
    }
   ],
   "source": [
    "from lnn import Model, Loss, Direction\n",
    "\n",
    "from lnn import Propositions, Implies, Or, And, Equivalent, Fact\n",
    "\n",
    "# Rules\n",
    "A, B, C, D, E = Propositions(\"A\",\"B\",\"C\",\"D\",\"E\")\n",
    "IMP = Implies(A,B)\n",
    "AND = And(C,D)\n",
    "EQ = Equivalent(AND,E)\n",
    "ROOT = And(IMP,EQ)\n",
    "\n",
    "\n",
    "# Knowledge\n",
    "model = Model()\n",
    "model.add_knowledge(IMP)\n",
    "model.add_knowledge(AND)\n",
    "model.add_knowledge(EQ)\n",
    "model.add_knowledge(ROOT)\n",
    "\n",
    "# Data\n",
    "\"\"\"\n",
    "root: TRUE\n",
    "A: 0.2 (with zero uncertainty)\n",
    "C: True\n",
    "E: 0.3 - 0.7\n",
    "\"\"\"\n",
    "ROOT.add_data((1.0,1.0))\n",
    "A.add_data((0.2,0.2))\n",
    "C.add_data(Fact.TRUE)\n",
    "E.add_data((0.3, 0.7))\n",
    "\n",
    "# Reasoning\n",
    "model.infer()\n",
    "model.print()\n",
    "\n",
    "# A.print()\n",
    "# B.print()\n",
    "# C.print()\n",
    "# D.print()\n",
    "# E.print()\n",
    "# AND.print()\n",
    "# EQ.print()\n",
    "# IMP.print()\n",
    "# ROOT.print()\n",
    "\n",
    "\n",
    "\n",
    "OR = Or(B,D,E)\n",
    "OR.upward()\n",
    "OR.print()"
   ]
  },
  {
   "cell_type": "markdown",
   "id": "d33918e1",
   "metadata": {},
   "source": [
    "### Query\n",
    "Finally, find the state of the **disjunction** between nodes `B`, `D` and `E`.\n",
    "\n",
    "<center>\n",
    "    <figure>\n",
    "        <img src=\"../img/experiment/0/query.png\" width=\"200\" />\n",
    "        <figcaption>Figure 5. Perform inference to find the disjunction between nodes B, D and E</figcaption>\n",
    "    </figure>\n",
    "</center>"
   ]
  },
  {
   "cell_type": "code",
   "execution_count": 26,
   "id": "c52ba565",
   "metadata": {},
   "outputs": [
    {
     "name": "stdout",
     "output_type": "stream",
     "text": [
      "OPEN Or: (B ∨ D ∨ E)                                 APPROX_TRUE (0.8, 1.0)\n",
      "params  α: 1.0,  β: 1.0,  w: [1. 1. 1.]\n"
     ]
    }
   ],
   "source": [
    "query = Or(B,D,E)\n",
    "query.upward()\n",
    "query.print(params=True)"
   ]
  },
  {
   "cell_type": "markdown",
   "id": "54f3963f",
   "metadata": {},
   "source": [
    "<h2 style=\"color:#0f62fe\"><strong>NSAI Essentials Submission</strong></h2>\n",
    "\n",
    "- Run the codeblock below to extract the output of the query that was reasoned over. \n",
    "- The output from the cell, **including the quotation marks**, should be filled in the `result` field of the evaluation form.\n",
    "- HINT: The result should look like `'APPROX_TRUE: (*, *)'`, with the bounds filled in.\n",
    "- See the [NSAI Essentials description](https://ibm.box.com/s/42l32h0uno2ndq5o9omb7hl17dddpjuk) for more details on the submission."
   ]
  },
  {
   "cell_type": "code",
   "execution_count": 27,
   "id": "f67c6977",
   "metadata": {},
   "outputs": [
    {
     "data": {
      "text/plain": [
       "'APPROX_TRUE: (0.8, 1.0)'"
      ]
     },
     "execution_count": 27,
     "metadata": {},
     "output_type": "execute_result"
    }
   ],
   "source": [
    "def format_result(node):\n",
    "    round_off = lambda my_list: [float(f\"{_:.1f}\") for _ in my_list]\n",
    "    return f\"{node.state().name}: {tuple(round_off(node.get_data().tolist()))}\"\n",
    "\n",
    "format_result(query)"
   ]
  },
  {
   "cell_type": "markdown",
   "id": "2fe38a01",
   "metadata": {},
   "source": [
    "🎉 Congratulations on completing the first set of tutorials on propositional logic 🎉 "
   ]
  }
 ],
 "metadata": {
  "kernelspec": {
   "display_name": "Python 3 (ipykernel)",
   "language": "python",
   "name": "python3"
  },
  "language_info": {
   "codemirror_mode": {
    "name": "ipython",
    "version": 3
   },
   "file_extension": ".py",
   "mimetype": "text/x-python",
   "name": "python",
   "nbconvert_exporter": "python",
   "pygments_lexer": "ipython3",
   "version": "3.9.16"
  }
 },
 "nbformat": 4,
 "nbformat_minor": 5
}
